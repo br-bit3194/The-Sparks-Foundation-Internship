{
 "cells": [
  {
   "cell_type": "code",
   "execution_count": null,
   "metadata": {},
   "outputs": [
    {
     "name": "stdout",
     "output_type": "stream",
     "text": [
      " * Serving Flask app \"__main__\" (lazy loading)\n",
      " * Environment: production\n",
      "   WARNING: This is a development server. Do not use it in a production deployment.\n",
      "   Use a production WSGI server instead.\n",
      " * Debug mode: off\n"
     ]
    },
    {
     "name": "stderr",
     "output_type": "stream",
     "text": [
      " * Running on http://127.0.0.1:5000/ (Press CTRL+C to quit)\n",
      "127.0.0.1 - - [14/Oct/2020 10:22:01] \"\u001b[37mGET / HTTP/1.1\u001b[0m\" 200 -\n",
      "127.0.0.1 - - [14/Oct/2020 10:34:19] \"\u001b[37mPOST /result HTTP/1.1\u001b[0m\" 200 -\n"
     ]
    }
   ],
   "source": [
    "import pickle\n",
    "import numpy as np\n",
    "from flask import Flask, request, redirect, render_template\n",
    "\n",
    "filename=r'E:\\Interships_&_courses\\Interships\\The sparks foundation\\task-1\\student_marks_pred.pkl'\n",
    "model=pickle.load(open(filename,'rb'))\n",
    "\n",
    "app=Flask(__name__,template_folder='templates')\n",
    "\n",
    "@app.route('/')\n",
    "def home():\n",
    "    return render_template(\"index.html\")\n",
    "\n",
    "\n",
    "# prediction function \n",
    "@app.route('/result', methods = ['POST']) \n",
    "def result(): \n",
    "    if request.method == 'POST': \n",
    "        hrs = float(request.form.get('Hours'))\n",
    "        pred=model.predict(np.array(hrs).reshape(-1,1))\n",
    "#         return render_template(\"Predicted_Score.html\", prediction = pred) \n",
    "        pred=round(float(pred),2)\n",
    "    return \"Your percentage of marks is: \"+str(pred)+\"% out of 100.0%\"\n",
    "    \n",
    "if __name__ == \"__main__\":\n",
    "    app.run()"
   ]
  },
  {
   "cell_type": "code",
   "execution_count": null,
   "metadata": {},
   "outputs": [],
   "source": []
  }
 ],
 "metadata": {
  "kernelspec": {
   "display_name": "Python 3",
   "language": "python",
   "name": "python3"
  },
  "language_info": {
   "codemirror_mode": {
    "name": "ipython",
    "version": 3
   },
   "file_extension": ".py",
   "mimetype": "text/x-python",
   "name": "python",
   "nbconvert_exporter": "python",
   "pygments_lexer": "ipython3",
   "version": "3.7.6"
  }
 },
 "nbformat": 4,
 "nbformat_minor": 4
}
