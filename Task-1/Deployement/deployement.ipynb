{
 "cells": [
  {
   "cell_type": "code",
   "execution_count": null,
   "metadata": {},
   "outputs": [],
   "source": [
    "import pickle\n",
    "import numpy as np\n",
    "from flask import Flask, request, redirect, render_template\n",
    "\n",
    "filename=r'Task-1\\student_marks_pred.pkl'\n",
    "model=pickle.load(open(filename,'rb'))\n",
    "\n",
    "app=Flask(__name__,template_folder='templates')\n",
    "\n",
    "@app.route('/')\n",
    "def home():\n",
    "    return render_template(\"index.html\")\n",
    "\n",
    "\n",
    "# prediction function \n",
    "@app.route('/result', methods = ['POST']) \n",
    "def result(): \n",
    "    if request.method == 'POST': \n",
    "        hrs = float(request.form.get('Hours'))\n",
    "        pred=model.predict(np.array(hrs).reshape(-1,1))\n",
    "#         return render_template(\"Predicted_Score.html\", prediction = pred) \n",
    "        pred=round(float(pred),2)\n",
    "    return \"Your percentage of marks is: \"+str(pred)+\"% out of 100.0%\"\n",
    "    \n",
    "if __name__ == \"__main__\":\n",
    "    app.run()"
   ]
  },
  {
   "cell_type": "code",
   "execution_count": null,
   "metadata": {},
   "outputs": [],
   "source": []
  }
 ],
 "metadata": {
  "kernelspec": {
   "display_name": "Python 3",
   "language": "python",
   "name": "python3"
  },
  "language_info": {
   "codemirror_mode": {
    "name": "ipython",
    "version": 3
   },
   "file_extension": ".py",
   "mimetype": "text/x-python",
   "name": "python",
   "nbconvert_exporter": "python",
   "pygments_lexer": "ipython3",
   "version": "3.7.6"
  }
 },
 "nbformat": 4,
 "nbformat_minor": 4
}
