{
 "cells": [
  {
   "cell_type": "code",
   "execution_count": 12,
   "metadata": {},
   "outputs": [
    {
     "name": "stdout",
     "output_type": "stream",
     "text": [
      " * Serving Flask app \"__main__\" (lazy loading)\n",
      " * Environment: production\n",
      "   WARNING: This is a development server. Do not use it in a production deployment.\n",
      "   Use a production WSGI server instead.\n",
      " * Debug mode: off\n"
     ]
    },
    {
     "name": "stderr",
     "output_type": "stream",
     "text": [
      " * Running on http://127.0.0.1:5000/ (Press CTRL+C to quit)\n",
      "127.0.0.1 - - [21/Oct/2020 23:06:56] \"\u001b[37mGET / HTTP/1.1\u001b[0m\" 200 -\n",
      "127.0.0.1 - - [21/Oct/2020 23:09:18] \"\u001b[37mGET / HTTP/1.1\u001b[0m\" 200 -\n",
      "127.0.0.1 - - [21/Oct/2020 23:13:59] \"\u001b[37mPOST /result HTTP/1.1\u001b[0m\" 200 -\n",
      "127.0.0.1 - - [21/Oct/2020 23:15:10] \"\u001b[37mPOST /result HTTP/1.1\u001b[0m\" 200 -\n",
      "127.0.0.1 - - [21/Oct/2020 23:15:15] \"\u001b[37mGET / HTTP/1.1\u001b[0m\" 200 -\n",
      "127.0.0.1 - - [21/Oct/2020 23:15:30] \"\u001b[37mPOST /result HTTP/1.1\u001b[0m\" 200 -\n"
     ]
    }
   ],
   "source": [
    "import pickle\n",
    "import numpy as np\n",
    "from flask import Flask, request, redirect, render_template,jsonify,json,make_response\n",
    "\n",
    "filename=r'..\\iris.pkl'\n",
    "model=pickle.load(open(filename,'rb'))\n",
    "\n",
    "app=Flask(__name__,template_folder='templates')\n",
    "\n",
    "@app.route('/')\n",
    "def home():\n",
    "    return render_template(\"index.html\")\n",
    "\n",
    "# prediction function \n",
    "@app.route('/result', methods = ['POST']) \n",
    "def result(): \n",
    "    if request.method == 'POST': \n",
    "        sl = float(request.form.get('sl'))\n",
    "        sw = float(request.form.get('sw'))\n",
    "        pl = float(request.form.get('pl'))\n",
    "        pw = float(request.form.get('pw'))\n",
    "        \n",
    "        pred=model.predict(np.array([sl,sw,pl,pw]).reshape(1,-1))\n",
    "        \n",
    "        if(pred==0):\n",
    "            pred='Iris-setosa'\n",
    "        elif(pred==1):\n",
    "            pred='Iris-versicolor'\n",
    "        else:\n",
    "            pred='Iris-virginica'\n",
    "            \n",
    "        return render_template(\"index.html\", prediction = pred) \n",
    "\n",
    "    return str(pred)    \n",
    "    \n",
    "if __name__ == \"__main__\":\n",
    "    app.run()"
   ]
  },
  {
   "cell_type": "code",
   "execution_count": null,
   "metadata": {},
   "outputs": [],
   "source": []
  }
 ],
 "metadata": {
  "kernelspec": {
   "display_name": "Python 3",
   "language": "python",
   "name": "python3"
  },
  "language_info": {
   "codemirror_mode": {
    "name": "ipython",
    "version": 3
   },
   "file_extension": ".py",
   "mimetype": "text/x-python",
   "name": "python",
   "nbconvert_exporter": "python",
   "pygments_lexer": "ipython3",
   "version": "3.7.6"
  }
 },
 "nbformat": 4,
 "nbformat_minor": 4
}
